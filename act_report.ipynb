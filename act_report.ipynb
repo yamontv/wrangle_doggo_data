{
 "cells": [
  {
   "cell_type": "markdown",
   "metadata": {},
   "source": [
    "# Analyzing of WeRateDogs"
   ]
  },
  {
   "cell_type": "markdown",
   "metadata": {},
   "source": [
    "[WeRateDogs](https://twitter.com/dog_rates) is a very popular Twitter account that “professionally” rates dogs. It has its own [unique rating system](http://knowyourmeme.com/memes/theyre-good-dogs-brent) and a tremendous amount of posts. That’s why it would be interesting to perform some data analysis and find some insights out of it."
   ]
  },
  {
   "cell_type": "markdown",
   "metadata": {},
   "source": [
    "![WeRateDogs](https://pbs.twimg.com/profile_images/1267972589722296320/XBr04M6J_400x400.jpg)"
   ]
  },
  {
   "cell_type": "markdown",
   "metadata": {},
   "source": [
    "## Relationship between favorites and retweets"
   ]
  },
  {
   "cell_type": "markdown",
   "metadata": {},
   "source": [
    "The most important parameters of every Twitter’s post are retweets and favorites counts. Let’s look at the correlation between them."
   ]
  },
  {
   "cell_type": "markdown",
   "metadata": {},
   "source": [
    "![relationship between favorites and retweets](img/fav_retweet_regplot.png)"
   ]
  },
  {
   "cell_type": "markdown",
   "metadata": {},
   "source": [
    "We can notice a really strong positive correlation between these parameters. Correlation coefficient is 0.92.  Interesting fact is that retweets count are 3 times lower than favorites count. It means people on average press the “like” button more often than the “retweet” button about 3 times."
   ]
  },
  {
   "cell_type": "markdown",
   "metadata": {},
   "source": [
    "## Most popular breed"
   ]
  },
  {
   "cell_type": "markdown",
   "metadata": {},
   "source": [
    "Let’s look at Top 10 breeds according to favorites count."
   ]
  },
  {
   "cell_type": "markdown",
   "metadata": {},
   "source": [
    "![top 10 breeds by favorites count](img/top10_breed_fav.png)"
   ]
  },
  {
   "cell_type": "markdown",
   "metadata": {},
   "source": [
    "Saluki, english springer, and australian terrier are leaders in the list."
   ]
  },
  {
   "cell_type": "markdown",
   "metadata": {},
   "source": [
    "Let’s look at Top 10 breeds according to retweets count."
   ]
  },
  {
   "cell_type": "markdown",
   "metadata": {},
   "source": [
    "![top 10 breeds by retweets count](img/top10_breed_retweet.png)"
   ]
  },
  {
   "cell_type": "markdown",
   "metadata": {},
   "source": [
    "English springer is way out in front."
   ]
  },
  {
   "cell_type": "markdown",
   "metadata": {},
   "source": [
    "Let’s look at Top 10 breeds according to ratings."
   ]
  },
  {
   "cell_type": "markdown",
   "metadata": {},
   "source": [
    "![top 10 breeds by rating](img/top10_breed_rat.png)"
   ]
  },
  {
   "cell_type": "markdown",
   "metadata": {},
   "source": [
    "English springer is a leader of 2 previous ratings. Surprisingly it is not in the Top 10 rating at all. It means that on average people think differently from experts."
   ]
  },
  {
   "cell_type": "markdown",
   "metadata": {},
   "source": [
    "## Neural Network Confidence"
   ]
  },
  {
   "cell_type": "markdown",
   "metadata": {},
   "source": [
    "In this project, a neural network was used to determine the breed of dogs. Let’s check how confident it was in prediction of different types of dogs."
   ]
  },
  {
   "cell_type": "markdown",
   "metadata": {},
   "source": [
    "![top 10 breeds by favorites count](img/top10_breed_conf.png)"
   ]
  },
  {
   "cell_type": "markdown",
   "metadata": {},
   "source": [
    "It was easier for the neural network to predict komondor, clumber, and tibetan mastiff breeds."
   ]
  },
  {
   "cell_type": "markdown",
   "metadata": {},
   "source": [
    "Let’s look at how the stage of a dog influences confidence. Stages of dogs uses [DoggoLingo](https://en.wikipedia.org/wiki/DoggoLingo) names."
   ]
  },
  {
   "cell_type": "markdown",
   "metadata": {},
   "source": [
    "![top 10 breeds by favorites count](img/stage_conf.png)"
   ]
  },
  {
   "cell_type": "markdown",
   "metadata": {},
   "source": [
    "The absolute winner is puppo surprisingly. I always thought that it’s easier to determine a breed when a dog is mature and has its final appearance. But the neural network “thinks” differently."
   ]
  }
 ],
 "metadata": {
  "kernelspec": {
   "display_name": "Python 3",
   "language": "python",
   "name": "python3"
  },
  "language_info": {
   "codemirror_mode": {
    "name": "ipython",
    "version": 3
   },
   "file_extension": ".py",
   "mimetype": "text/x-python",
   "name": "python",
   "nbconvert_exporter": "python",
   "pygments_lexer": "ipython3",
   "version": "3.8.2"
  }
 },
 "nbformat": 4,
 "nbformat_minor": 4
}
